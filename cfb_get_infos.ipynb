{
 "cells": [
  {
   "cell_type": "markdown",
   "id": "78c877f5",
   "metadata": {},
   "source": [
    "# Introdução\n",
    "\n",
    "No *site* da CFB\n",
    "https://www.infraestruturameioambiente.sp.gov.br/cfb/contatos/"
   ]
  },
  {
   "cell_type": "code",
   "execution_count": null,
   "id": "b88776fb",
   "metadata": {},
   "outputs": [],
   "source": [
    "import os\n",
    "import re\n",
    "import time\n",
    "import random\n",
    "import requests\n",
    "import numpy as np\n",
    "import pandas as pd\n",
    "import geopandas as gpd\n",
    "\n",
    "from bs4 import BeautifulSoup\n",
    "from osgeo import gdal, osr\n",
    "from tqdm.notebook import trange, tqdm"
   ]
  },
  {
   "cell_type": "markdown",
   "id": "2b07d9a4",
   "metadata": {},
   "source": [
    "# Dados Tabulares"
   ]
  },
  {
   "cell_type": "markdown",
   "id": "f15eeead",
   "metadata": {},
   "source": [
    "## Scrapy *Site*"
   ]
  },
  {
   "cell_type": "code",
   "execution_count": null,
   "id": "92f643fc",
   "metadata": {},
   "outputs": [],
   "source": [
    "url = 'https://www.infraestruturameioambiente.sp.gov.br/cfb/contatos/'\n",
    "r = requests.get(url)\n",
    "soup = BeautifulSoup(r.content, 'html.parser')\n",
    "tag = soup.find('div', {'id': 'content'}).text"
   ]
  },
  {
   "cell_type": "code",
   "execution_count": null,
   "id": "9208d954",
   "metadata": {},
   "outputs": [],
   "source": [
    "list_main = []\n",
    "for i in str(tag).split('\\n'):\n",
    "    if i == '':\n",
    "        pass\n",
    "    else:\n",
    "        list_main.append(i)\n",
    "\n",
    "# Create Table\n",
    "df = pd.DataFrame({'data': list_main})\n",
    "print(df[0:100])"
   ]
  },
  {
   "cell_type": "markdown",
   "id": "2247ff8b",
   "metadata": {},
   "source": [
    "## Ajusta de Tabela"
   ]
  },
  {
   "cell_type": "code",
   "execution_count": null,
   "id": "18e62e98",
   "metadata": {},
   "outputs": [],
   "source": [
    "# Define os marcos iniciais\n",
    "df['interval'] = df.apply(lambda x: x.name if 'CTR' in x['data'] else np.nan, axis=1)\n",
    "\n",
    "# Remove Espaços em Branco\n",
    "df['data'] = df.apply(lambda x: np.nan if x['data'] == '\\xa0' else x, axis=1)\n",
    "\n",
    "# Preenche Coluna\n",
    "df['interval']  = df['interval'].ffill()\n",
    "\n",
    "# Elimina Linhas com NaN\n",
    "df = df.dropna()\n",
    "\n",
    "# Result\n",
    "df.head(10)"
   ]
  },
  {
   "cell_type": "code",
   "execution_count": null,
   "id": "24daa3a4",
   "metadata": {},
   "outputs": [],
   "source": [
    "list_temps = []\n",
    "list_for = list(set(df['interval']))\n",
    "print(list_for)\n",
    "for i in list_for:\n",
    "    df_temp = df[df['interval'] == i]\n",
    "    list_temp = list(df_temp['data'])    \n",
    "    list_temps.append(list_temp)"
   ]
  },
  {
   "cell_type": "code",
   "execution_count": null,
   "id": "27f292ca",
   "metadata": {},
   "outputs": [],
   "source": [
    "for i in list_temps:    \n",
    "    if len(i)==7:\n",
    "        i.insert(5, None)"
   ]
  },
  {
   "cell_type": "code",
   "execution_count": null,
   "id": "a9dbbc11",
   "metadata": {},
   "outputs": [],
   "source": [
    "df = pd.DataFrame(\n",
    "    list_temps,\n",
    "    columns = [\n",
    "        'id_ctr',\n",
    "        'end',\n",
    "        'bairro_cidade',\n",
    "        'cep',\n",
    "        'telefone_1',\n",
    "        'telefone_2',\n",
    "        'email',\n",
    "        'diretor',\n",
    "    ])\n",
    "\n",
    "df.head()"
   ]
  },
  {
   "cell_type": "code",
   "execution_count": null,
   "id": "9990f2ad",
   "metadata": {},
   "outputs": [],
   "source": [
    "# Remove tudo que vem antes do :\n",
    "df = df.applymap(lambda x: x.split(':')[-1], na_action='ignore')\n",
    "df"
   ]
  },
  {
   "cell_type": "code",
   "execution_count": null,
   "id": "78a10446",
   "metadata": {},
   "outputs": [],
   "source": [
    "for i in df.columns:\n",
    "    print(set(df[i]))"
   ]
  },
  {
   "cell_type": "markdown",
   "id": "803ccbf9",
   "metadata": {},
   "source": [
    "## Funções"
   ]
  },
  {
   "cell_type": "code",
   "execution_count": null,
   "id": "69b2e222",
   "metadata": {},
   "outputs": [],
   "source": [
    "def rename_nome(x):\n",
    "    x = x.title()\n",
    "    x = x.strip()\n",
    "    dict_rename = {\n",
    "        # Encoding\n",
    "        '  '  : ' ',\n",
    "        \n",
    "        # Basics\n",
    "        ' Com '  : ' com ',\n",
    "        ' Sobre ': ' sobre ',\n",
    "        ' Da '   : ' da ',\n",
    "        ' De '   : ' de ',\n",
    "        ' Do '   : ' do ',\n",
    "        ' Das '  : ' das ',\n",
    "        ' Dos '  : ' dos ',\n",
    "        ' A '    : ' a ',\n",
    "        ' As '   : ' as ',\n",
    "        ' Ao '   : ' ao ',\n",
    "        ' Aos '  : ' aos ',\n",
    "        ' E '    : ' e ',\n",
    "        ' O '    : ' o ',\n",
    "        ' Os '   : ' os ',\n",
    "        \n",
    "        # Erros\n",
    "        '1ºten'  : '1º Ten',\n",
    "        \n",
    "        # Abreviações\n",
    "        'Subten ' : 'Subtenente ',\n",
    "        'Sub Ten' : 'Subtenente ',\n",
    "        'Cap '    : 'Capitão ',\n",
    "        'Ten '    : 'Tenente ',\n",
    "        'Maj '    : 'Major ',\n",
    "        'Cel '    : 'Coronel ',        \n",
    "        'Sgt '    : 'Sargento ',\n",
    "        ' Pm '    : ' PM ',\n",
    "        '–': '-',\n",
    "        'Registro/Sp': 'Registro - Sp',\n",
    "        'São Bernardo do Campo- Sp': 'São Bernardo do Campo - Sp',\n",
    "        ' - Sp': '',\n",
    "        \n",
    "        'R.': 'Rua',\n",
    "        'Av.': 'Avenida',\n",
    "        'Avenida Rodrigues Alves - Quadra 38 - Nº 138': 'Avenida Rodrigues Alves, 138 - Quadra 38',\n",
    "        '133, Sala 23': '133 - Sala 23',\n",
    "\n",
    "        # Empty\n",
    "        'None' : '',\n",
    "        'none' : '',\n",
    "    }\n",
    "    for k, v in dict_rename.items():\n",
    "        x = x.replace(k, v)\n",
    "    x = x.replace('  ', ' ')\n",
    "    return x.strip()"
   ]
  },
  {
   "cell_type": "markdown",
   "id": "2922bb1e",
   "metadata": {},
   "source": [
    "## Renomeando Campos em Colunas"
   ]
  },
  {
   "cell_type": "code",
   "execution_count": null,
   "id": "fd27ec5f",
   "metadata": {},
   "outputs": [],
   "source": [
    "df['bairro_cidade'] = df['bairro_cidade'].astype(str).apply(lambda x: rename_nome(x))\n",
    "df[['bairro','municipio_sede']] = df['bairro_cidade'].str.split('-', expand=True)\n",
    "\n",
    "df['bairro'] = df['bairro'].astype(str).apply(lambda x: rename_nome(x))\n",
    "df['municipio_sede'] = df['municipio_sede'].astype(str).apply(lambda x: rename_nome(x))"
   ]
  },
  {
   "cell_type": "code",
   "execution_count": null,
   "id": "28c08970",
   "metadata": {},
   "outputs": [],
   "source": [
    "df['telefone_1'] = df['telefone_1'].astype(str).apply(lambda x: rename_nome(x))\n",
    "df['telefone_2'] = df['telefone_2'].astype(str).apply(lambda x: rename_nome(x))"
   ]
  },
  {
   "cell_type": "code",
   "execution_count": null,
   "id": "2c4e297d",
   "metadata": {},
   "outputs": [],
   "source": [
    "df['cep'] = df['cep'].astype(str).apply(lambda x: rename_nome(x))"
   ]
  },
  {
   "cell_type": "code",
   "execution_count": null,
   "id": "d84a02ae",
   "metadata": {},
   "outputs": [],
   "source": [
    "df['id_ctr'] = df['id_ctr'].astype(str).apply(lambda x: rename_nome(x))\n",
    "df['id_ctr'] = df['id_ctr'].astype(str).apply(lambda x: x.rsplit('-', 1)[0])\n",
    "df['id_ctr'] = df['id_ctr'].astype(str).apply(lambda x: x.upper())\n",
    "df['id_ctr'] = df['id_ctr'].astype(str).apply(lambda x: x.strip().replace(' ', ''))"
   ]
  },
  {
   "cell_type": "code",
   "execution_count": null,
   "id": "641b2d49",
   "metadata": {},
   "outputs": [],
   "source": [
    "df['end'] = df['end'].astype(str).apply(lambda x: rename_nome(x))\n",
    "df['endereco'] = df['end'].astype(str).apply(lambda x: x.split(',', 1)[0])\n",
    "df['numero'] = df['end'].astype(str).apply(lambda x: x.split(',', 1)[1])\n",
    "df[['numero','complemento']] = df['numero'].str.split('-', n=1, expand=True)\n",
    "\n",
    "df['numero'] = df['numero'].astype(str).apply(lambda x: rename_nome(x))\n",
    "df['complemento'] = df['complemento'].astype(str).apply(lambda x: rename_nome(x))\n",
    "\n",
    "df"
   ]
  },
  {
   "cell_type": "markdown",
   "id": "2aa43de5",
   "metadata": {},
   "source": [
    "## Reordena Colunas"
   ]
  },
  {
   "cell_type": "code",
   "execution_count": null,
   "id": "de5bff34",
   "metadata": {},
   "outputs": [],
   "source": [
    "df = df[[\n",
    "    'id_ctr',\n",
    "    'endereco',\n",
    "    'numero',\n",
    "    'complemento',\n",
    "    'cep',\n",
    "    'bairro',\n",
    "    'municipio_sede',\n",
    "    'telefone_1',\n",
    "    'telefone_2',\n",
    "    'email',\n",
    "    'diretor'\n",
    "]]\n",
    "\n",
    "df"
   ]
  },
  {
   "cell_type": "markdown",
   "id": "86aa6bda",
   "metadata": {},
   "source": [
    "## Salva"
   ]
  },
  {
   "cell_type": "code",
   "execution_count": null,
   "id": "608dbbf7",
   "metadata": {},
   "outputs": [],
   "source": [
    "# Results\n",
    "df.to_csv(\n",
    "    os.path.join('data', 'tabs', 'tab_ctr.csv'),\n",
    "    index=False,\n",
    ")\n",
    "df"
   ]
  },
  {
   "cell_type": "code",
   "execution_count": null,
   "id": "b2e1dc13",
   "metadata": {},
   "outputs": [],
   "source": []
  }
 ],
 "metadata": {
  "kernelspec": {
   "display_name": "Python 3",
   "language": "python",
   "name": "python3"
  },
  "language_info": {
   "codemirror_mode": {
    "name": "ipython",
    "version": 3
   },
   "file_extension": ".py",
   "mimetype": "text/x-python",
   "name": "python",
   "nbconvert_exporter": "python",
   "pygments_lexer": "ipython3",
   "version": "3.8.8"
  }
 },
 "nbformat": 4,
 "nbformat_minor": 5
}
