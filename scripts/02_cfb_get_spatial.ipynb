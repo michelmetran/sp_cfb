{
 "cells": [
  {
   "cell_type": "markdown",
   "id": "87447f74",
   "metadata": {},
   "source": [
    "<br>\n",
    "\n",
    "# Introdução"
   ]
  },
  {
   "cell_type": "code",
   "execution_count": null,
   "id": "81202688",
   "metadata": {},
   "outputs": [],
   "source": [
    "import os\n",
    "import time\n",
    "import random\n",
    "import shutil\n",
    "import requests\n",
    "\n",
    "import pandas as pd\n",
    "import geopandas as gpd\n",
    "\n",
    "from osgeo import ogr\n",
    "from zipfile import ZipFile\n",
    "from bs4 import BeautifulSoup"
   ]
  },
  {
   "cell_type": "markdown",
   "id": "fe7a0ef4",
   "metadata": {},
   "source": [
    "<br>\n",
    "\n",
    "## Funções"
   ]
  },
  {
   "cell_type": "code",
   "execution_count": null,
   "id": "7d390f31",
   "metadata": {},
   "outputs": [],
   "source": [
    "def get_download(url, filename, path):\n",
    "    # Define o nome do arquivo, com diretório, que será salvo\n",
    "    zipfile = os.path.join(path, filename)\n",
    "\n",
    "    # Faz o download do arquivo da 'url' e salva localmente com o nome do arquivo\n",
    "    r = requests.get(url, stream=True)\n",
    "    with open(zipfile, 'wb') as out:\n",
    "        for chunk in r.iter_content(chunk_size=128):\n",
    "            out.write(chunk)\n",
    "    print('File \"{}\" download in \"{}\" directory.'.format(filename, path))"
   ]
  },
  {
   "cell_type": "code",
   "execution_count": null,
   "id": "e8a92faf",
   "metadata": {},
   "outputs": [],
   "source": [
    "def unzip(filename, path):\n",
    "    # Get dir of zipfile\n",
    "    zipfile = os.path.join(path, filename)\n",
    "    path = os.path.dirname(zipfile)\n",
    "\n",
    "    # Create a ZipFile Object\n",
    "    with ZipFile(zipfile, 'r') as zip_obj:\n",
    "        # Get a list of all archived file names from the zip\n",
    "        list_files = []\n",
    "        list_files = zip_obj.namelist()\n",
    "\n",
    "        # Iterate over the file names\n",
    "        for file in list_files:\n",
    "            name, ext = os.path.splitext(file)\n",
    "            zip_obj.extract(file, os.path.dirname(zipfile))\n",
    "            os.rename(os.path.join(path, file), os.path.join(path, os.path.splitext(filename)[0]+ext))\n",
    "            print('File \"{}\" extracted as \"{}\" in \"{}\" directory.'.format(file, os.path.splitext(filename)[0]+ext, path))\n",
    "\n",
    "    # Remove file\n",
    "    os.remove(zipfile)"
   ]
  },
  {
   "cell_type": "code",
   "execution_count": null,
   "id": "2e70bfde",
   "metadata": {},
   "outputs": [],
   "source": [
    "def rename_nome(x):\n",
    "    x = x.title()\n",
    "    x = x.strip()\n",
    "    dict_rename = {\n",
    "        '/': '-',\n",
    "        ' Da ': ' da ',\n",
    "        ' Do ': ' do ',\n",
    "        ' Das ': ' das ',\n",
    "        ' Dos ': ' dos ',\n",
    "        '4ªcpamb': '4ª Cpamb',\n",
    "        'Pelpamb': 'Pelotão Ambiental',\n",
    "        'Cpamb': 'Companhia Ambiental',\n",
    "        'Pres.Prudente': 'Presidente Prudente',\n",
    "        'Pres. Prudente': 'Presidente Prudente',\n",
    "    }\n",
    "    for k, v in dict_rename.items():\n",
    "        x = x.replace(k, v)\n",
    "    x = x.replace('  ', ' ')\n",
    "    return x.strip()"
   ]
  },
  {
   "cell_type": "markdown",
   "id": "50f59932",
   "metadata": {},
   "source": [
    "<br>\n",
    "\n",
    "# Dados Espaciais: DataGeo"
   ]
  },
  {
   "cell_type": "markdown",
   "id": "6ce4ebff",
   "metadata": {},
   "source": [
    "## *Download*"
   ]
  },
  {
   "cell_type": "code",
   "execution_count": null,
   "id": "151a4928",
   "metadata": {},
   "outputs": [],
   "source": [
    "# Input\n",
    "url = 'http://datageo.ambiente.sp.gov.br/geoserver/datageo/CTR_NRPP/wfs?version=1.0.0&request=GetFeature&outputFormat=SHAPE-ZIP&typeName=CTR_NRPP'\n",
    "filename = 'sp_cfb.zip'\n",
    "path = os.path.join('data', 'shps')\n",
    "\n",
    "# Get Data\n",
    "get_download(url, filename, path)\n",
    "unzip(filename, path)"
   ]
  },
  {
   "cell_type": "code",
   "execution_count": null,
   "id": "7972ab8e",
   "metadata": {},
   "outputs": [],
   "source": [
    "# Lê arquivo\n",
    "file = 'sp_cfb'\n",
    "shp = os.path.join('data', 'shps', '{}.shp'.format(file))\n",
    "gdf = gpd.read_file(shp)\n",
    "\n",
    "# Transforma Coordenadas\n",
    "gdf = gdf.to_crs(epsg=4326)\n",
    "\n",
    "# Renomeia colunas\n",
    "gdf.rename(\n",
    "    columns={\n",
    "        'Codigo': 'id_ctr',\n",
    "        'Nome'  : 'ctr_nome',\n",
    "    },\n",
    "    inplace=True\n",
    ")\n",
    "\n",
    "# Renomeia Campos Coluna\n",
    "#gdf.loc[:, 'repdec_cod'] = gdf['repdec_cod'].astype(str).apply(lambda x: rename_nome(x))\n",
    "#gdf.loc[:, 'repdec_regiao'] = gdf['repdec_regiao'].astype(str).apply(lambda x: rename_nome(x))\n",
    "\n",
    "# Results\n",
    "display(gdf.head())\n",
    "gdf.plot()\n",
    "\n",
    "# Cria Cópia\n",
    "gdf_cpamb = gdf"
   ]
  },
  {
   "cell_type": "code",
   "execution_count": null,
   "id": "a43a09d4",
   "metadata": {},
   "outputs": [],
   "source": [
    "# Deleta Shapefile\n",
    "file = 'sp_cfb'\n",
    "shp = os.path.join('data', 'shps', '{}.shp'.format(file))\n",
    "driver = ogr.GetDriverByName(\"ESRI Shapefile\")\n",
    "\n",
    "# Delete shapefile\n",
    "if os.path.exists(shp):\n",
    "    driver.DeleteDataSource(shp)\n",
    "\n",
    "# Delete other files\n",
    "for i in os.listdir(os.path.dirname(shp)):\n",
    "    if i.split('.')[0] == file:\n",
    "        os.remove(os.path.join('data', 'shps', i))"
   ]
  },
  {
   "cell_type": "markdown",
   "id": "982b63be",
   "metadata": {},
   "source": [
    "<br>\n",
    "\n",
    "## Convert to Points"
   ]
  },
  {
   "cell_type": "code",
   "execution_count": null,
   "id": "ed2cb58a",
   "metadata": {},
   "outputs": [],
   "source": [
    "# Lê arquivo\n",
    "gdf = gpd.read_file(\n",
    "    'https://raw.githubusercontent.com/michelmetran/sp/main/data/shps/sp_050k_wgs84.geojson',\n",
    ")\n",
    "\n",
    "# Transforma Coordenadas\n",
    "gdf = gdf.to_crs(epsg=4326)\n",
    "\n",
    "# Pega centroid\n",
    "gdf_geometry = gdf.representative_point()\n",
    "gdf['geometry'] = gdf_geometry\n",
    "\n",
    "# Results\n",
    "display(gdf.head())\n",
    "gdf.plot()"
   ]
  },
  {
   "cell_type": "markdown",
   "id": "9ef9d9c7",
   "metadata": {},
   "source": [
    "<br>\n",
    "\n",
    "## Spatial Join"
   ]
  },
  {
   "cell_type": "code",
   "execution_count": null,
   "id": "e2dfb9d9",
   "metadata": {},
   "outputs": [],
   "source": [
    "# Intersect\n",
    "gdf_inter = gpd.sjoin(gdf, gdf_cpamb, how='inner', op='intersects')\n",
    "\n",
    "# Convert to Dataframe\n",
    "df = gdf_inter[['id_municipio', 'id_ctr', 'ctr_nome']].copy()\n",
    "\n",
    "# Results\n",
    "display(df.head())\n",
    "gdf_inter.plot()"
   ]
  },
  {
   "cell_type": "markdown",
   "id": "1122c88e",
   "metadata": {},
   "source": [
    "<br>\n",
    "\n",
    "## Join Municípios"
   ]
  },
  {
   "cell_type": "code",
   "execution_count": null,
   "id": "613ed055",
   "metadata": {},
   "outputs": [],
   "source": [
    "# Lê o arquivo csv com o nome dos municípios\n",
    "df_mun = pd.read_csv(\n",
    "    'https://raw.githubusercontent.com/michelmetran/sp/main/data/tabs/tab_municipios.csv',\n",
    "    usecols=['id_municipio', 'municipio_nome']\n",
    ")\n",
    "\n",
    "# Merge\n",
    "df = pd.merge(\n",
    "    df_mun,\n",
    "    df,\n",
    "    how='left',\n",
    "    left_on='id_municipio',\n",
    "    right_on='id_municipio'\n",
    ")\n",
    "\n",
    "# Resultados\n",
    "df.head()"
   ]
  },
  {
   "cell_type": "markdown",
   "id": "10d9abb2",
   "metadata": {},
   "source": [
    "<br>\n",
    "\n",
    "## Join CTR"
   ]
  },
  {
   "cell_type": "code",
   "execution_count": null,
   "id": "611ecf80",
   "metadata": {},
   "outputs": [],
   "source": [
    "# Lê o arquivo csv com o nome dos municípios\n",
    "df_defesa = pd.read_csv(\n",
    "    os.path.join('data', 'tabs', 'tab_ctr.csv'),\n",
    ")\n",
    "\n",
    "# Merge\n",
    "df = pd.merge(\n",
    "    df,\n",
    "    df_defesa,    \n",
    "    how='left',\n",
    "    left_on='id_ctr',\n",
    "    right_on='id_ctr'\n",
    ")\n",
    "\n",
    "# Resultados\n",
    "df.head()"
   ]
  },
  {
   "cell_type": "markdown",
   "id": "20d96382",
   "metadata": {},
   "source": [
    "<br>\n",
    "\n",
    "# Salva"
   ]
  },
  {
   "cell_type": "code",
   "execution_count": null,
   "id": "188faa85",
   "metadata": {},
   "outputs": [],
   "source": [
    "# Salva\n",
    "df.to_csv(\n",
    "    os.path.join('data', 'tabs', 'tab_municipio_ctr.csv'),\n",
    "    index=False,\n",
    ")\n",
    "\n",
    "# Resultados\n",
    "df.head()"
   ]
  },
  {
   "cell_type": "code",
   "execution_count": null,
   "id": "5360f1ca",
   "metadata": {},
   "outputs": [],
   "source": []
  }
 ],
 "metadata": {
  "kernelspec": {
   "display_name": "Python 3.10.6 ('pablocarreira-lastest')",
   "language": "python",
   "name": "python3"
  },
  "language_info": {
   "codemirror_mode": {
    "name": "ipython",
    "version": 3
   },
   "file_extension": ".py",
   "mimetype": "text/x-python",
   "name": "python",
   "nbconvert_exporter": "python",
   "pygments_lexer": "ipython3",
   "version": "3.10.6"
  },
  "toc-autonumbering": true,
  "vscode": {
   "interpreter": {
    "hash": "4fe01b1e548a48625e93ad3ec9d7217eaa82c8c5a1273b2b8580787b5d806f08"
   }
  }
 },
 "nbformat": 4,
 "nbformat_minor": 5
}
