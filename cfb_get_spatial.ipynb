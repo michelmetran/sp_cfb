{
 "cells": [
  {
   "cell_type": "markdown",
   "id": "057b4c97",
   "metadata": {},
   "source": [
    "# Introdução"
   ]
  },
  {
   "cell_type": "code",
   "execution_count": null,
   "id": "3b40ce16",
   "metadata": {},
   "outputs": [],
   "source": [
    "import os\n",
    "import time\n",
    "import random\n",
    "import shutil\n",
    "import requests\n",
    "\n",
    "import pandas as pd\n",
    "import geopandas as gpd\n",
    "\n",
    "from osgeo import ogr\n",
    "from zipfile import ZipFile\n",
    "from bs4 import BeautifulSoup"
   ]
  },
  {
   "cell_type": "markdown",
   "id": "d39fe7ea",
   "metadata": {},
   "source": [
    "<br>\n",
    "\n",
    "## Funções"
   ]
  },
  {
   "cell_type": "code",
   "execution_count": null,
   "id": "ffecba1b",
   "metadata": {},
   "outputs": [],
   "source": [
    "def get_download(url, filename, path):\n",
    "    # Define o nome do arquivo, com diretório, que será salvo\n",
    "    zipfile = os.path.join(path, filename)\n",
    "\n",
    "    # Faz o download do arquivo da 'url' e salva localmente com o nome do arquivo\n",
    "    r = requests.get(url, stream=True)\n",
    "    with open(zipfile, 'wb') as out:\n",
    "        for chunk in r.iter_content(chunk_size=128):\n",
    "            out.write(chunk)\n",
    "    print('File \"{}\" download in \"{}\" directory.'.format(filename, path))"
   ]
  },
  {
   "cell_type": "code",
   "execution_count": null,
   "id": "973945a5",
   "metadata": {},
   "outputs": [],
   "source": [
    "def unzip(filename, path):\n",
    "    # Get dir of zipfile\n",
    "    zipfile = os.path.join(path, filename)\n",
    "    path = os.path.dirname(zipfile)\n",
    "\n",
    "    # Create a ZipFile Object\n",
    "    with ZipFile(zipfile, 'r') as zip_obj:\n",
    "        # Get a list of all archived file names from the zip\n",
    "        list_files = []\n",
    "        list_files = zip_obj.namelist()\n",
    "\n",
    "        # Iterate over the file names\n",
    "        for file in list_files:\n",
    "            name, ext = os.path.splitext(file)\n",
    "            zip_obj.extract(file, os.path.dirname(zipfile))\n",
    "            os.rename(os.path.join(path, file), os.path.join(path, os.path.splitext(filename)[0]+ext))\n",
    "            print('File \"{}\" extracted as \"{}\" in \"{}\" directory.'.format(file, os.path.splitext(filename)[0]+ext, path))\n",
    "\n",
    "    # Remove file\n",
    "    os.remove(zipfile)"
   ]
  },
  {
   "cell_type": "code",
   "execution_count": null,
   "id": "c8e51f67",
   "metadata": {},
   "outputs": [],
   "source": [
    "def rename_nome(x):\n",
    "    x = x.title()\n",
    "    x = x.strip()\n",
    "    dict_rename = {\n",
    "        '/': '-',\n",
    "        ' Da ': ' da ',\n",
    "        ' Do ': ' do ',\n",
    "        ' Das ': ' das ',\n",
    "        ' Dos ': ' dos ',\n",
    "        '4ªcpamb': '4ª Cpamb',\n",
    "        'Pelpamb': 'Pelotão Ambiental',\n",
    "        'Cpamb': 'Companhia Ambiental',\n",
    "        'Pres.Prudente': 'Presidente Prudente',\n",
    "        'Pres. Prudente': 'Presidente Prudente',\n",
    "    }\n",
    "    for k, v in dict_rename.items():\n",
    "        x = x.replace(k, v)\n",
    "    x = x.replace('  ', ' ')\n",
    "    return x.strip()"
   ]
  },
  {
   "cell_type": "markdown",
   "id": "a8501cfb",
   "metadata": {},
   "source": [
    "<br>\n",
    "\n",
    "# Dados Espaciais: DataGeo"
   ]
  },
  {
   "cell_type": "markdown",
   "id": "04a9e8a7",
   "metadata": {},
   "source": [
    "## *Download*"
   ]
  },
  {
   "cell_type": "code",
   "execution_count": null,
   "id": "614d6dc6",
   "metadata": {},
   "outputs": [],
   "source": [
    "# Input\n",
    "url = 'http://datageo.ambiente.sp.gov.br/geoserver/datageo/CTR_NRPP/wfs?version=1.0.0&request=GetFeature&outputFormat=SHAPE-ZIP&typeName=CTR_NRPP'\n",
    "filename = 'sp_cfb.zip'\n",
    "path = os.path.join('data', 'shps')\n",
    "\n",
    "# Get Data\n",
    "get_download(url, filename, path)\n",
    "unzip(filename, path)"
   ]
  },
  {
   "cell_type": "code",
   "execution_count": null,
   "id": "295e02b7",
   "metadata": {},
   "outputs": [],
   "source": [
    "# Lê arquivo\n",
    "file = 'sp_cfb'\n",
    "shp = os.path.join('data', 'shps', '{}.shp'.format(file))\n",
    "gdf = gpd.read_file(shp)\n",
    "\n",
    "# Transforma Coordenadas\n",
    "gdf = gdf.to_crs(epsg=4326)\n",
    "\n",
    "# Renomeia colunas\n",
    "gdf.rename(\n",
    "    columns={\n",
    "        'Codigo': 'id_ctr',\n",
    "        'Nome'  : 'ctr_nome',\n",
    "    },\n",
    "    inplace=True\n",
    ")\n",
    "\n",
    "# Renomeia Campos Coluna\n",
    "#gdf.loc[:, 'repdec_cod'] = gdf['repdec_cod'].astype(str).apply(lambda x: rename_nome(x))\n",
    "#gdf.loc[:, 'repdec_regiao'] = gdf['repdec_regiao'].astype(str).apply(lambda x: rename_nome(x))\n",
    "\n",
    "# Results\n",
    "display(gdf.head())\n",
    "gdf.plot()\n",
    "\n",
    "# Cria Cópia\n",
    "gdf_cpamb = gdf"
   ]
  },
  {
   "cell_type": "code",
   "execution_count": null,
   "id": "ec01ebfa",
   "metadata": {},
   "outputs": [],
   "source": [
    "# Deleta Shapefile\n",
    "file = 'sp_cfb'\n",
    "shp = os.path.join('data', 'shps', '{}.shp'.format(file))\n",
    "driver = ogr.GetDriverByName(\"ESRI Shapefile\")\n",
    "\n",
    "# Delete shapefile\n",
    "if os.path.exists(shp):\n",
    "    driver.DeleteDataSource(shp)\n",
    "\n",
    "# Delete other files\n",
    "for i in os.listdir(os.path.dirname(shp)):\n",
    "    if i.split('.')[0] == file:\n",
    "        os.remove(os.path.join('data', 'shps', i))"
   ]
  },
  {
   "cell_type": "markdown",
   "id": "2c478393",
   "metadata": {},
   "source": [
    "<br>\n",
    "\n",
    "## Convert to Points"
   ]
  },
  {
   "cell_type": "code",
   "execution_count": null,
   "id": "a0fe4782",
   "metadata": {},
   "outputs": [],
   "source": [
    "# Lê arquivo\n",
    "gdf = gpd.read_file(\n",
    "    'https://raw.githubusercontent.com/michelmetran/sp/main/data/shps/sp_050k_wgs84.geojson',\n",
    ")\n",
    "\n",
    "# Transforma Coordenadas\n",
    "gdf = gdf.to_crs(epsg=4326)\n",
    "\n",
    "# Pega centroid\n",
    "gdf_geometry = gdf.representative_point()\n",
    "gdf['geometry'] = gdf_geometry\n",
    "\n",
    "# Results\n",
    "display(gdf.head())\n",
    "gdf.plot()"
   ]
  },
  {
   "cell_type": "markdown",
   "id": "742d86a1",
   "metadata": {},
   "source": [
    "<br>\n",
    "\n",
    "## Spatial Join"
   ]
  },
  {
   "cell_type": "code",
   "execution_count": null,
   "id": "0a89ccb3",
   "metadata": {},
   "outputs": [],
   "source": [
    "# Intersect\n",
    "gdf_inter = gpd.sjoin(gdf, gdf_cpamb, how='inner', op='intersects')\n",
    "\n",
    "# Convert to Dataframe\n",
    "df = gdf_inter[['id_municipio', 'id_ctr', 'ctr_nome']].copy()\n",
    "\n",
    "# Results\n",
    "display(df.head())\n",
    "gdf_inter.plot()"
   ]
  },
  {
   "cell_type": "markdown",
   "id": "91550f64",
   "metadata": {},
   "source": [
    "<br>\n",
    "\n",
    "## Join Municípios"
   ]
  },
  {
   "cell_type": "code",
   "execution_count": null,
   "id": "7f78557c",
   "metadata": {},
   "outputs": [],
   "source": [
    "# Lê o arquivo csv com o nome dos municípios\n",
    "df_mun = pd.read_csv(\n",
    "    'https://raw.githubusercontent.com/michelmetran/sp/main/data/tabs/tab_municipios.csv',\n",
    "    usecols=['id_municipio', 'municipio_nome']\n",
    ")\n",
    "\n",
    "# Merge\n",
    "df = pd.merge(\n",
    "    df_mun,\n",
    "    df,\n",
    "    how='left',\n",
    "    left_on='id_municipio',\n",
    "    right_on='id_municipio'\n",
    ")\n",
    "\n",
    "# Resultados\n",
    "df.head()"
   ]
  },
  {
   "cell_type": "markdown",
   "id": "64061e50",
   "metadata": {},
   "source": [
    "<br>\n",
    "\n",
    "## Join CTR"
   ]
  },
  {
   "cell_type": "code",
   "execution_count": null,
   "id": "3581c20e",
   "metadata": {},
   "outputs": [],
   "source": [
    "# Lê o arquivo csv com o nome dos municípios\n",
    "df_defesa = pd.read_csv(\n",
    "    os.path.join('data', 'tabs', 'tab_ctr.csv'),\n",
    ")\n",
    "\n",
    "# Merge\n",
    "df = pd.merge(\n",
    "    df,\n",
    "    df_defesa,    \n",
    "    how='left',\n",
    "    left_on='id_ctr',\n",
    "    right_on='id_ctr'\n",
    ")\n",
    "\n",
    "# Resultados\n",
    "df.head()"
   ]
  },
  {
   "cell_type": "markdown",
   "id": "c3e43bb2",
   "metadata": {},
   "source": [
    "<br>\n",
    "\n",
    "# Salva"
   ]
  },
  {
   "cell_type": "code",
   "execution_count": null,
   "id": "b9f2cd17",
   "metadata": {},
   "outputs": [],
   "source": [
    "# Salva\n",
    "df.to_csv(\n",
    "    os.path.join('data', 'tabs', 'tab_municipio_ctr.csv'),\n",
    "    index=False,\n",
    ")\n",
    "\n",
    "# Resultados\n",
    "df.head()"
   ]
  },
  {
   "cell_type": "code",
   "execution_count": null,
   "id": "dd39742f",
   "metadata": {},
   "outputs": [],
   "source": []
  }
 ],
 "metadata": {
  "kernelspec": {
   "display_name": "Python [conda env:pablocarreira-py38] *",
   "language": "python",
   "name": "conda-env-pablocarreira-py38-py"
  },
  "language_info": {
   "codemirror_mode": {
    "name": "ipython",
    "version": 3
   },
   "file_extension": ".py",
   "mimetype": "text/x-python",
   "name": "python",
   "nbconvert_exporter": "python",
   "pygments_lexer": "ipython3",
   "version": "3.8.8"
  },
  "toc-autonumbering": true
 },
 "nbformat": 4,
 "nbformat_minor": 5
}
